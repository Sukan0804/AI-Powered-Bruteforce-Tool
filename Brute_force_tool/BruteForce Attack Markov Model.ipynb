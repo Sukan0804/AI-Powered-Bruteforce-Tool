{
 "cells": [
  {
   "cell_type": "code",
   "execution_count": 1,
   "id": "1c902333-726e-4946-b97f-27ee90242360",
   "metadata": {},
   "outputs": [
    {
     "name": "stdout",
     "output_type": "stream",
     "text": [
      "🛠️ Training 3-gram Markov model...\n",
      "✅ Model saved as markov_model_3gram.pkl\n"
     ]
    },
    {
     "name": "stderr",
     "output_type": "stream",
     "text": [
      "🔍 Evaluating Model:  13%|█▎        | 13/100 [00:06<00:34,  2.51it/s]"
     ]
    },
    {
     "name": "stdout",
     "output_type": "stream",
     "text": [
      "Attempts: 100000...\n"
     ]
    },
    {
     "name": "stderr",
     "output_type": "stream",
     "text": [
      "🔍 Evaluating Model:  13%|█▎        | 13/100 [00:20<00:34,  2.51it/s]"
     ]
    },
    {
     "name": "stdout",
     "output_type": "stream",
     "text": [
      "Attempts: 200000...\n",
      "Attempts: 300000...\n",
      "Attempts: 400000...\n",
      "Attempts: 500000...\n"
     ]
    },
    {
     "name": "stderr",
     "output_type": "stream",
     "text": [
      "🔍 Evaluating Model:  17%|█▋        | 17/100 [00:52<06:51,  4.96s/it]"
     ]
    },
    {
     "name": "stdout",
     "output_type": "stream",
     "text": [
      "Attempts: 100000...\n",
      "Attempts: 200000...\n",
      "Attempts: 300000...\n",
      "Attempts: 400000...\n",
      "Attempts: 500000...\n"
     ]
    },
    {
     "name": "stderr",
     "output_type": "stream",
     "text": [
      "🔍 Evaluating Model:  37%|███▋      | 37/100 [01:27<01:17,  1.23s/it]"
     ]
    },
    {
     "name": "stdout",
     "output_type": "stream",
     "text": [
      "Attempts: 100000...\n"
     ]
    },
    {
     "name": "stderr",
     "output_type": "stream",
     "text": [
      "🔍 Evaluating Model:  37%|███▋      | 37/100 [01:40<01:17,  1.23s/it]"
     ]
    },
    {
     "name": "stdout",
     "output_type": "stream",
     "text": [
      "Attempts: 200000...\n",
      "Attempts: 300000...\n",
      "Attempts: 400000...\n",
      "Attempts: 500000...\n",
      "Attempts: 600000...\n"
     ]
    },
    {
     "name": "stderr",
     "output_type": "stream",
     "text": [
      "🔍 Evaluating Model:  46%|████▌     | 46/100 [02:18<02:02,  2.27s/it]"
     ]
    },
    {
     "name": "stdout",
     "output_type": "stream",
     "text": [
      "Attempts: 100000...\n",
      "Attempts: 200000...\n",
      "Attempts: 300000...\n",
      "Attempts: 400000...\n",
      "Attempts: 500000...\n"
     ]
    },
    {
     "name": "stderr",
     "output_type": "stream",
     "text": [
      "🔍 Evaluating Model:  51%|█████     | 51/100 [03:00<04:20,  5.32s/it]"
     ]
    },
    {
     "name": "stdout",
     "output_type": "stream",
     "text": [
      "Attempts: 100000...\n",
      "Attempts: 200000...\n"
     ]
    },
    {
     "name": "stderr",
     "output_type": "stream",
     "text": [
      "🔍 Evaluating Model:  88%|████████▊ | 88/100 [03:34<00:06,  1.87it/s]"
     ]
    },
    {
     "name": "stdout",
     "output_type": "stream",
     "text": [
      "Attempts: 100000...\n"
     ]
    },
    {
     "name": "stderr",
     "output_type": "stream",
     "text": [
      "🔍 Evaluating Model: 100%|██████████| 100/100 [03:43<00:00,  2.23s/it]"
     ]
    },
    {
     "name": "stdout",
     "output_type": "stream",
     "text": [
      "\n",
      "📊 Evaluation Results\n",
      "Top-1000000 Accuracy: 100.00%\n",
      "Average Attempts (cracked only): 31880.08\n",
      "Average Time per Crack: 2.23 sec\n"
     ]
    },
    {
     "name": "stderr",
     "output_type": "stream",
     "text": [
      "\n"
     ]
    }
   ],
   "source": [
    "import pickle\n",
    "import random\n",
    "import time\n",
    "from collections import defaultdict, Counter\n",
    "from tqdm import tqdm\n",
    "\n",
    "### --- Step 1: Load Passwords --- ###\n",
    "def load_passwords(file_path, max_lines=10000):\n",
    "    with open(file_path, 'r', encoding='latin-1', errors='ignore') as f:\n",
    "        return [line.strip() for i, line in enumerate(f) if line.strip() and i < max_lines]\n",
    "\n",
    "### --- Step 2: Train Higher-order Markov Model (3-gram) --- ###\n",
    "def train_markov_model(passwords, state_size=3):\n",
    "    model = defaultdict(list)\n",
    "    for password in passwords:\n",
    "        for i in range(len(password) - state_size):\n",
    "            state = password[i:i + state_size]\n",
    "            next_char = password[i + state_size]\n",
    "            model[state].append(next_char)\n",
    "    return dict(model)\n",
    "\n",
    "### --- Step 3: Weighted Character Sampling --- ###\n",
    "def weighted_choice(char_list):\n",
    "    counter = Counter(char_list)\n",
    "    chars, weights = zip(*counter.items())\n",
    "    return random.choices(chars, weights=weights)[0]\n",
    "\n",
    "### --- Step 4: Weighted Markov Password Generator --- ###\n",
    "def generate_weighted_password(model, seed=\"pas\", length=10):\n",
    "    password = seed\n",
    "    while len(password) < length:\n",
    "        state = password[-len(seed):]\n",
    "        next_chars = model.get(state)\n",
    "        if not next_chars:\n",
    "            break\n",
    "        next_char = weighted_choice(next_chars)\n",
    "        password += next_char\n",
    "    return password\n",
    "\n",
    "### --- Step 5: Cracking Attempt Function --- ###\n",
    "def crack_password_with_model(target, model, length, max_attempts=1000000, seeds=None):\n",
    "    attempts = 0\n",
    "    tried = set()\n",
    "    start = time.time()\n",
    "\n",
    "    if not seeds:\n",
    "        seeds = [target[:3], target[:2], \"pas\", \"lov\", \"123\"]\n",
    "\n",
    "    for seed in seeds:\n",
    "        while attempts < max_attempts:\n",
    "            gen = generate_weighted_password(model, seed=seed, length=length)\n",
    "            attempts += 1\n",
    "            if gen == target:\n",
    "                return True, attempts, time.time() - start\n",
    "            tried.add(gen)\n",
    "            if attempts % 100000 == 0:\n",
    "                print(f\"Attempts: {attempts}...\")\n",
    "\n",
    "    return False, attempts, time.time() - start\n",
    "\n",
    "### --- Step 6: Evaluator Function --- ###\n",
    "def evaluate_model(passwords, model, sample_size=100, max_attempts=1000000):\n",
    "    cracked = 0\n",
    "    total_attempts = 0\n",
    "    total_time = 0\n",
    "\n",
    "    sample = random.sample(passwords, min(sample_size, len(passwords)))\n",
    "\n",
    "    for pwd in tqdm(sample, desc=\"🔍 Evaluating Model\"):\n",
    "        length = len(pwd)\n",
    "        success, attempts, time_taken = crack_password_with_model(\n",
    "            target=pwd,\n",
    "            model=model,\n",
    "            length=length,\n",
    "            max_attempts=max_attempts,\n",
    "            seeds=[pwd[:3], pwd[:2], \"pas\", \"lov\", \"123\"]\n",
    "        )\n",
    "        if success:\n",
    "            cracked += 1\n",
    "            total_attempts += attempts\n",
    "            total_time += time_taken\n",
    "\n",
    "    accuracy = cracked / sample_size\n",
    "    avg_attempts = total_attempts / cracked if cracked > 0 else float('inf')\n",
    "    avg_time = total_time / cracked if cracked > 0 else float('inf')\n",
    "\n",
    "    print(\"\\n📊 Evaluation Results\")\n",
    "    print(f\"Top-{max_attempts} Accuracy: {accuracy * 100:.2f}%\")\n",
    "    print(f\"Average Attempts (cracked only): {avg_attempts:.2f}\")\n",
    "    print(f\"Average Time per Crack: {avg_time:.2f} sec\")\n",
    "\n",
    "### --- Step 7: Train, Save, Load, and Evaluate --- ###\n",
    "\n",
    "# Load training data\n",
    "passwords = load_passwords(\"rockyou.txt\", max_lines= 50000)  # Feel free to increase\n",
    "\n",
    "# Train 3-gram model\n",
    "print(\"🛠️ Training 3-gram Markov model...\")\n",
    "model = train_markov_model(passwords, state_size=3)\n",
    "\n",
    "# Save model\n",
    "with open(\"markov_model_3gram.pkl\", \"wb\") as f:\n",
    "    pickle.dump(model, f)\n",
    "print(\"✅ Model saved as markov_model_3gram.pkl\")\n",
    "\n",
    "# Evaluate model\n",
    "evaluate_model(passwords, model, sample_size=100, max_attempts=1000000)\n"
   ]
  },
  {
   "cell_type": "code",
   "execution_count": 8,
   "id": "9ed9dfd6-f0c5-46d2-a0f9-7054c8a02f1a",
   "metadata": {},
   "outputs": [
    {
     "name": "stdin",
     "output_type": "stream",
     "text": [
      "🔑 Enter a password to crack:  lovely123\n"
     ]
    },
    {
     "name": "stdout",
     "output_type": "stream",
     "text": [
      "\n",
      "✅ Password cracked!\n",
      "🔐 Password: lovely123\n",
      "📊 Attempts: 17\n",
      "⏱️ Time taken: 0.00 seconds\n"
     ]
    },
    {
     "data": {
      "text/plain": [
       "'lovely123'"
      ]
     },
     "execution_count": 8,
     "metadata": {},
     "output_type": "execute_result"
    }
   ],
   "source": [
    "import pickle\n",
    "import random\n",
    "import time\n",
    "from collections import Counter\n",
    "\n",
    "### --- Load the 3-gram Model --- ###\n",
    "with open(\"markov_model_3gram.pkl\", \"rb\") as f:\n",
    "    model = pickle.load(f)\n",
    "\n",
    "### --- Weighted Sampling --- ###\n",
    "def weighted_choice(char_list):\n",
    "    counter = Counter(char_list)\n",
    "    chars, weights = zip(*counter.items())\n",
    "    return random.choices(chars, weights=weights)[0]\n",
    "\n",
    "### --- Password Generator --- ###\n",
    "def generate_password(model, seed=\"pas\", length=10):\n",
    "    password = seed\n",
    "    while len(password) < length:\n",
    "        state = password[-len(seed):]\n",
    "        next_chars = model.get(state)\n",
    "        if not next_chars:\n",
    "            break\n",
    "        password += weighted_choice(next_chars)\n",
    "    return password\n",
    "\n",
    "### --- Cracking Function --- ###\n",
    "def crack_password(target, model, max_attempts=100000000):\n",
    "    length = len(target)\n",
    "    seeds = [target[:3], target[:2], \"pas\", \"lov\", \"123\", \"qwe\"]\n",
    "    tried = set()\n",
    "    attempts = 0\n",
    "    start = time.time()\n",
    "\n",
    "    for seed in seeds:\n",
    "        while attempts < max_attempts:\n",
    "            pwd = generate_password(model, seed=seed, length=length)\n",
    "            attempts += 1\n",
    "            if pwd == target:\n",
    "                end = time.time()\n",
    "                print(f\"\\n✅ Password cracked!\")\n",
    "                print(f\"🔐 Password: {pwd}\")\n",
    "                print(f\"📊 Attempts: {attempts}\")\n",
    "                print(f\"⏱️ Time taken: {end - start:.2f} seconds\")\n",
    "                return pwd\n",
    "            tried.add(pwd)\n",
    "            if attempts % 100000 == 0:\n",
    "                print(f\"Still trying... {attempts} attempts\")\n",
    "\n",
    "    print(\"\\n❌ Failed to crack the password within attempt limit.\")\n",
    "    return None\n",
    "\n",
    "### --- User Input + Crack --- ###\n",
    "target_password = input(\"🔑 Enter a password to crack: \").strip()\n",
    "crack_password(target_password, model)\n"
   ]
  },
  {
   "cell_type": "code",
   "execution_count": 6,
   "id": "6399fde8-acc5-485a-8994-38e43de578b8",
   "metadata": {},
   "outputs": [
    {
     "name": "stdout",
     "output_type": "stream",
     "text": [
      "Requirement already satisfied: tqdm in c:\\users\\prajith k\\anaconda3\\lib\\site-packages (4.65.0)\n",
      "Requirement already satisfied: colorama in c:\\users\\prajith k\\anaconda3\\lib\\site-packages (from tqdm) (0.4.6)\n",
      "Note: you may need to restart the kernel to use updated packages.\n"
     ]
    }
   ],
   "source": [
    "pip install tqdm"
   ]
  },
  {
   "cell_type": "code",
   "execution_count": null,
   "id": "980b0868-8d90-4d43-a7cb-71258661c964",
   "metadata": {},
   "outputs": [],
   "source": []
  }
 ],
 "metadata": {
  "kernelspec": {
   "display_name": "Python 3 (ipykernel)",
   "language": "python",
   "name": "python3"
  },
  "language_info": {
   "codemirror_mode": {
    "name": "ipython",
    "version": 3
   },
   "file_extension": ".py",
   "mimetype": "text/x-python",
   "name": "python",
   "nbconvert_exporter": "python",
   "pygments_lexer": "ipython3",
   "version": "3.11.7"
  }
 },
 "nbformat": 4,
 "nbformat_minor": 5
}
